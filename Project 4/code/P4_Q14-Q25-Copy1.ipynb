{
 "cells": [
  {
   "cell_type": "code",
   "execution_count": null,
   "id": "bf684de7",
   "metadata": {
    "colab": {
     "base_uri": "https://localhost:8080/"
    },
    "id": "bf684de7",
    "outputId": "39e32774-9d93-4c63-9c38-9c82c244d56e"
   },
   "outputs": [],
   "source": [
    "from google.colab import drive\n",
    "drive.mount('/content/drive')"
   ]
  },
  {
   "cell_type": "code",
   "execution_count": null,
   "id": "9c54b53a",
   "metadata": {
    "id": "9c54b53a"
   },
   "outputs": [],
   "source": [
    "file_path = \"drive/MyDrive/232E/\""
   ]
  },
  {
   "cell_type": "code",
   "execution_count": null,
   "id": "58c84bc5",
   "metadata": {
    "colab": {
     "base_uri": "https://localhost:8080/"
    },
    "id": "58c84bc5",
    "outputId": "255449ae-eeaf-4353-9e04-a59ed35009f4"
   },
   "outputs": [],
   "source": [
    "!pip install igraph\n",
    "\n",
    "!pip install cairocffi"
   ]
  },
  {
   "cell_type": "code",
   "execution_count": null,
   "id": "4af03ae1",
   "metadata": {
    "id": "4af03ae1"
   },
   "outputs": [],
   "source": [
    "from igraph import *\n",
    "import json\n",
    "import random\n",
    "import numpy as np\n",
    "from numpy import linalg \n",
    "import itertools\n",
    "import matplotlib.pyplot as plt\n",
    "from scipy.spatial import Delaunay  # needed for triangulation\n",
    "import os\n",
    "import pandas as pd\n",
    "from copy import deepcopy\n",
    "from tqdm import tqdm\n",
    "import networkx as nx\n",
    "import pandas as pd\n",
    "import igraph"
   ]
  },
  {
   "cell_type": "code",
   "execution_count": null,
   "id": "91f6889d",
   "metadata": {
    "id": "91f6889d"
   },
   "outputs": [],
   "source": [
    "random.seed(2022)\n",
    "np.random.seed(2022)"
   ]
  },
  {
   "cell_type": "code",
   "execution_count": null,
   "id": "ec206ef5",
   "metadata": {
    "id": "ec206ef5"
   },
   "outputs": [],
   "source": [
    "with open(file_path+'los_angeles_censustracts.json') as f:\n",
    "    census_tracts = json.loads(f.readline())"
   ]
  },
  {
   "cell_type": "code",
   "execution_count": null,
   "id": "5686956f",
   "metadata": {
    "id": "5686956f"
   },
   "outputs": [],
   "source": [
    "display_names = dict()\n",
    "coordinates = dict()\n",
    "\n",
    "for area in census_tracts['features']:\n",
    "    id = int(area['properties']['MOVEMENT_ID'])\n",
    "    display_name = area['properties']['DISPLAY_NAME']\n",
    "    display_names[id] = display_name\n",
    "    a = area['geometry']['coordinates'][0]\n",
    "    coordinates[id] = np.array(a if type(a[0][0]) == float else a[0]).mean(axis=0)"
   ]
  },
  {
   "cell_type": "code",
   "execution_count": null,
   "id": "7b3f755e",
   "metadata": {
    "id": "7b3f755e"
   },
   "outputs": [],
   "source": [
    "g = Graph(directed=False)\n",
    "g.add_vertices(len(display_names))\n",
    "g.vs['display_name'] = list(display_names.values())  # index = id - 1\n",
    "g.vs['coordinates'] = list(coordinates.values())"
   ]
  },
  {
   "cell_type": "code",
   "execution_count": null,
   "id": "ffee7ca3",
   "metadata": {
    "id": "ffee7ca3"
   },
   "outputs": [],
   "source": [
    "month_filter = {12}  # for monthly aggregate data of 4th quarter, we can filter data based off of only December\n",
    "\n",
    "edges = []\n",
    "weights = []\n",
    "\n",
    "with open(file_path+'los_angeles-censustracts-2019-4-All-MonthlyAggregate.csv') as f:\n",
    "    f.readline()  # skip the first line\n",
    "    \n",
    "    while True:\n",
    "        line = f.readline()\n",
    "        if line == '':\n",
    "            break  # end of file\n",
    "        \n",
    "        vals = line.strip().split(',')\n",
    "        \n",
    "        # read edge info\n",
    "        src, dest, month, dist = int(vals[0]), int(vals[1]), int(vals[2]), float(vals[3])\n",
    "\n",
    "        # if data is not relevant, skip it\n",
    "        if month not in month_filter:\n",
    "            continue\n",
    "            \n",
    "        edges.append((src - 1, dest - 1))\n",
    "        weights.append(dist)  "
   ]
  },
  {
   "cell_type": "code",
   "execution_count": null,
   "id": "c30e5b37",
   "metadata": {
    "id": "c30e5b37"
   },
   "outputs": [],
   "source": [
    "g.add_edges(edges)\n",
    "g.es['weight'] = weights\n",
    "del edges, weights"
   ]
  },
  {
   "cell_type": "code",
   "execution_count": null,
   "id": "f02616e9",
   "metadata": {
    "colab": {
     "base_uri": "https://localhost:8080/"
    },
    "id": "f02616e9",
    "outputId": "75a68dd5-39ed-4a79-e9e2-56fd2c86b53c"
   },
   "outputs": [],
   "source": [
    "print(len(g.vs), len(g.es))"
   ]
  },
  {
   "cell_type": "code",
   "execution_count": null,
   "id": "de042083",
   "metadata": {
    "id": "de042083"
   },
   "outputs": [],
   "source": [
    "# keep only the giant connected component\n",
    "components = g.components()\n",
    "gcc = max(components, key=len)\n",
    "vs_to_delete = [i for i in range(len(g.vs)) if i not in gcc]\n",
    "g.delete_vertices(vs_to_delete)\n",
    "\n",
    "# remove duplicate edges\n",
    "g = g.simplify(combine_edges=dict(weight='mean'))  # combine duplicate edges"
   ]
  },
  {
   "cell_type": "code",
   "execution_count": null,
   "id": "0167a91f",
   "metadata": {
    "id": "0167a91f"
   },
   "outputs": [],
   "source": [
    "coordinates = np.array(g.vs['coordinates'])\n",
    "tri = Delaunay(g.vs['coordinates'])"
   ]
  },
  {
   "cell_type": "code",
   "execution_count": null,
   "id": "ccc49ad0",
   "metadata": {
    "colab": {
     "base_uri": "https://localhost:8080/",
     "height": 855
    },
    "id": "ccc49ad0",
    "outputId": "43687d26-468a-4c1b-e71d-d672ff925cc9"
   },
   "outputs": [],
   "source": [
    "plt.figure(figsize=(15,15))\n",
    "plt.triplot(coordinates[:, 0], coordinates[:, 1], tri.simplices.copy())\n",
    "Bbox = ((-118.75,-117.75,33.7,34.4))\n",
    "la_image = plt.imread(file_path+\"Los_Angeles_Open_Streetmap.png\")\n",
    "plt.title(\"Road mesh of LA using Delaunay Triangualation algorithm\")\n",
    "plt.xlabel(\"Longitude\")\n",
    "plt.ylabel(\"Latitude\")\n",
    "plt.xlim(Bbox[0],Bbox[1])\n",
    "plt.ylim(Bbox[2],Bbox[3])\n",
    "plt.imshow(la_image,zorder=0,extent=Bbox,aspect='equal')\n",
    "plt.show()\n"
   ]
  },
  {
   "cell_type": "code",
   "execution_count": null,
   "id": "debf8391",
   "metadata": {
    "colab": {
     "base_uri": "https://localhost:8080/"
    },
    "id": "debf8391",
    "outputId": "208e754f-5f73-4276-e5dd-d5cb1fa048f1"
   },
   "outputs": [],
   "source": [
    "edges_to_induce = []\n",
    "for i in tqdm(range(tri.simplices.shape[0])):\n",
    "    for col1,col2 in ((0,1),(1,2),(0,2)):\n",
    "        v1,v2 = tri.simplices[i,col1],tri.simplices[i,col2] \n",
    "        bool_value = g.are_connected(v1,v2)\n",
    "        if(bool_value):\n",
    "            eid = g.get_eid(v1,v2)\n",
    "            edges_to_induce.append(eid)"
   ]
  },
  {
   "cell_type": "code",
   "execution_count": null,
   "id": "986edf8f",
   "metadata": {
    "id": "986edf8f"
   },
   "outputs": [],
   "source": [
    "tri_g = g.subgraph_edges(edges_to_induce)"
   ]
  },
  {
   "cell_type": "code",
   "execution_count": null,
   "id": "Q_X5wu8Xuhfe",
   "metadata": {
    "colab": {
     "base_uri": "https://localhost:8080/",
     "height": 1000
    },
    "id": "Q_X5wu8Xuhfe",
    "outputId": "e1183c3c-1942-4487-f1f0-80206d24ec12"
   },
   "outputs": [],
   "source": [
    "plt.figure(figsize=(15,15))\n",
    "for e in tqdm(tri_g.es):\n",
    "    start = e.source\n",
    "    end = e.target\n",
    "    v1 = np.array(tri_g.vs(start)['coordinates'])\n",
    "    v2 = np.array(tri_g.vs(end)['coordinates'])\n",
    "    data = np.vstack([v1,v2])\n",
    "    x = data[:, 0]\n",
    "    y = data[:, 1]\n",
    "    plt.plot(x, y, 'blue')\n",
    "plt.axis('equal')\n",
    "Bbox = ((-118.75,-117.75,33.7,34.4))\n",
    "la_image = plt.imread(file_path+\"Los_Angeles_Open_Streetmap.png\")\n",
    "plt.title(\"Road mesh after removing fake edges\")\n",
    "plt.xlabel(\"Longitude\")\n",
    "plt.ylabel(\"Latitude\")\n",
    "plt.xlim(Bbox[0],Bbox[1])\n",
    "plt.ylim(Bbox[2],Bbox[3])\n",
    "plt.imshow(la_image,zorder=0,extent= Bbox,aspect='equal')\n",
    "plt.show()"
   ]
  },
  {
   "cell_type": "code",
   "execution_count": null,
   "id": "f5db7f63",
   "metadata": {
    "id": "f5db7f63"
   },
   "outputs": [],
   "source": [
    "def create_graph_with_euclid_distance(graph):\n",
    "    edge_list = graph.es()\n",
    "    node_list = graph.vs()\n",
    "    for i in edge_list:\n",
    "        node_0 = node_list(i.source)\n",
    "        node_1 = node_list(i.target)\n",
    "        coord0 = np.array(node_0['coordinates']).squeeze()\n",
    "        coord1 = np.array(node_1['coordinates']).squeeze()\n",
    "        distance = np.linalg.norm(coord0-coord1,2)\n",
    "        i['euclidean_cost']=distance\n",
    "create_graph_with_euclid_distance(tri_g)"
   ]
  },
  {
   "cell_type": "code",
   "execution_count": null,
   "id": "1ba21c72",
   "metadata": {
    "colab": {
     "base_uri": "https://localhost:8080/",
     "height": 35
    },
    "id": "1ba21c72",
    "outputId": "eb860224-ab44-437a-80d0-33e4635db429"
   },
   "outputs": [],
   "source": [
    "tri_g.summary()"
   ]
  },
  {
   "cell_type": "code",
   "execution_count": null,
   "id": "897c6f04",
   "metadata": {
    "colab": {
     "base_uri": "https://localhost:8080/",
     "height": 472
    },
    "id": "897c6f04",
    "outputId": "91b166c8-01ec-4300-b675-b0560f8503f0"
   },
   "outputs": [],
   "source": [
    "import matplotlib.pyplot as plt\n",
    "weights = tri_g.es['weight']\n",
    "binwidth = 20\n",
    "bins = np.arange(min(weights), max(weights) + binwidth, binwidth)\n",
    "plt.hist(weights, bins=bins)\n",
    "plt.xlabel(\"Travelling Time\")\n",
    "plt.ylabel(\"Frequency\")\n",
    "plt.title(\"Frequency vs Travelling Time\")\n",
    "plt.show()\n"
   ]
  },
  {
   "cell_type": "code",
   "execution_count": null,
   "id": "f994ed96",
   "metadata": {
    "colab": {
     "base_uri": "https://localhost:8080/",
     "height": 821
    },
    "id": "f994ed96",
    "outputId": "05be3a24-0ff9-48c0-fb83-c3094cd411e5"
   },
   "outputs": [],
   "source": [
    "visual_style = {}\n",
    "visual_style[\"vertex_size\"]=3\n",
    "plot(tri_g,**visual_style)"
   ]
  },
  {
   "cell_type": "markdown",
   "id": "8eed7e53",
   "metadata": {
    "id": "8eed7e53"
   },
   "source": [
    "### Estimating Traffic Flows Q15\n",
    "### Max Flow Analysis"
   ]
  },
  {
   "cell_type": "code",
   "execution_count": null,
   "id": "97641da9",
   "metadata": {
    "id": "97641da9"
   },
   "outputs": [],
   "source": [
    "edge_ends = np.array(tri_g.es['weight'])/3600\n",
    "distances= 69*np.array(tri_g.es['euclidean_cost'])\n",
    "speeds =  distances/edge_ends\n",
    "car_length = 0.003  # (miles)\n",
    "safety_distances = car_length+speeds * (2/3600)  # in miles, derived from 2 sec distance\n",
    "cars_per_mile =  distances/(safety_distances)\n",
    "n_lanes = 2\n",
    "cars_per_hour = n_lanes*cars_per_mile*speeds"
   ]
  },
  {
   "cell_type": "code",
   "execution_count": null,
   "id": "247d42b5",
   "metadata": {
    "id": "247d42b5"
   },
   "outputs": [],
   "source": [
    "tri_g.es['capacity'] = cars_per_hour"
   ]
  },
  {
   "cell_type": "code",
   "execution_count": null,
   "id": "b9eb21d5",
   "metadata": {
    "id": "b9eb21d5"
   },
   "outputs": [],
   "source": [
    "source_coordinates= [-118.78,34.026]\n",
    "dest_coordinates =  [-118.18,33.77]\n",
    "\n",
    "malibu = np.asarray(source_coordinates)\n",
    "long_beach = np.asarray(dest_coordinates) \n"
   ]
  },
  {
   "cell_type": "code",
   "execution_count": null,
   "id": "69da03a1",
   "metadata": {
    "colab": {
     "base_uri": "https://localhost:8080/"
    },
    "id": "69da03a1",
    "outputId": "4a628dea-dbdb-49bf-c24e-0de7ab56e38b"
   },
   "outputs": [],
   "source": [
    "#Now that we have the capacities of each road sorted out\n",
    "\n",
    "closest_to_malibu = np.inf \n",
    "closest_to_long_beach = np.inf\n",
    "malibu_vertex = 0\n",
    "long_beach_vertex = 0\n",
    "for i in tqdm(range(0,len(coordinates))):\n",
    "    coord = coordinates[i]\n",
    "    distance_2_malibu = np.linalg.norm(coord-malibu,2)\n",
    "    distance_2_longbeach = np.linalg.norm(coord-long_beach,2)\n",
    "    if(distance_2_malibu<closest_to_malibu):\n",
    "        closest_to_malibu = distance_2_malibu\n",
    "        malibu_vertex = i\n",
    "    if(distance_2_longbeach<closest_to_long_beach):\n",
    "        closest_to_long_beach = distance_2_longbeach\n",
    "        long_beach_vertex = i\n"
   ]
  },
  {
   "cell_type": "code",
   "execution_count": null,
   "id": "9caa61f1",
   "metadata": {
    "colab": {
     "base_uri": "https://localhost:8080/"
    },
    "id": "9caa61f1",
    "outputId": "f4d60305-ac5c-4e3e-d1b7-8d55a92c7d68"
   },
   "outputs": [],
   "source": [
    "print(malibu_vertex)"
   ]
  },
  {
   "cell_type": "code",
   "execution_count": null,
   "id": "dbed5cb0",
   "metadata": {
    "colab": {
     "base_uri": "https://localhost:8080/"
    },
    "id": "dbed5cb0",
    "outputId": "80918eba-60b0-422d-c4aa-cbbd0418e3e8"
   },
   "outputs": [],
   "source": [
    "print(long_beach_vertex)"
   ]
  },
  {
   "cell_type": "code",
   "execution_count": null,
   "id": "4d96deb3",
   "metadata": {
    "colab": {
     "base_uri": "https://localhost:8080/"
    },
    "id": "4d96deb3",
    "outputId": "9fc17584-af0c-4418-bee1-417ca98f954d"
   },
   "outputs": [],
   "source": [
    "print('Number of edge-disjoint paths: ',tri_g.adhesion(long_beach_vertex,malibu_vertex))"
   ]
  },
  {
   "cell_type": "code",
   "execution_count": null,
   "id": "206d5e2d",
   "metadata": {
    "colab": {
     "base_uri": "https://localhost:8080/"
    },
    "id": "206d5e2d",
    "outputId": "655511f2-af22-4f90-eb76-1268122f038a"
   },
   "outputs": [],
   "source": [
    "print(tri_g.maxflow(malibu_vertex,long_beach_vertex,capacity=tri_g.es[\"capacity\"]))"
   ]
  },
  {
   "cell_type": "code",
   "execution_count": null,
   "id": "99c93c51",
   "metadata": {
    "colab": {
     "base_uri": "https://localhost:8080/",
     "height": 872
    },
    "id": "99c93c51",
    "outputId": "7271c62b-b6b7-4558-ab2e-e0179f78b741"
   },
   "outputs": [],
   "source": [
    "plt.figure(figsize=(10,10))\n",
    "plt.triplot(coordinates[:, 0], coordinates[:, 1], tri.simplices.copy())\n",
    "Bbox = ((-118.75,-117.75,33.7,34.4))\n",
    "la_image = plt.imread(file_path+\"Los_Angeles_Open_Streetmap.png\")\n",
    "\n",
    "plt.ylim(coordinates[malibu_vertex][1]-0.03,coordinates[malibu_vertex][1]+0.03)\n",
    "plt.xlim(coordinates[malibu_vertex][0]-0.03,coordinates[malibu_vertex][0]+0.03)\n",
    "plt.plot(coordinates[malibu_vertex][0],coordinates[malibu_vertex][1],marker=\"*\",color='red')\n",
    "plt.xlabel('Longitude')\n",
    "plt.ylabel('Latitude')\n",
    "plt.title('Road map near Malibu')\n",
    "plt.show()"
   ]
  },
  {
   "cell_type": "code",
   "execution_count": null,
   "id": "0e2c849e",
   "metadata": {
    "colab": {
     "base_uri": "https://localhost:8080/",
     "height": 872
    },
    "id": "0e2c849e",
    "outputId": "609cd9e6-2f13-43f7-85a8-ab866b8abbe3"
   },
   "outputs": [],
   "source": [
    "plt.figure(figsize=(10,10))\n",
    "plt.triplot(coordinates[:, 0], coordinates[:, 1], tri.simplices.copy())\n",
    "Bbox = ((-118.75,-117.75,33.7,34.4))\n",
    "plt.ylim(coordinates[long_beach_vertex][1]-0.03,coordinates[long_beach_vertex][1]+0.03)\n",
    "plt.xlim(coordinates[long_beach_vertex][0]-0.03,coordinates[long_beach_vertex][0]+0.03)\n",
    "plt.plot(coordinates[long_beach_vertex][0],coordinates[long_beach_vertex][1],marker=\"*\",color='red')\n",
    "plt.xlabel('Longitude')\n",
    "plt.ylabel('Latitude')\n",
    "plt.title('Road map near Long Beach')\n",
    "plt.show()"
   ]
  },
  {
   "cell_type": "code",
   "execution_count": null,
   "id": "e57dd8c7",
   "metadata": {
    "id": "e57dd8c7"
   },
   "outputs": [],
   "source": [
    "trim_thresh = 800"
   ]
  },
  {
   "cell_type": "code",
   "execution_count": null,
   "id": "fb1efc6d",
   "metadata": {
    "id": "fb1efc6d"
   },
   "outputs": [],
   "source": [
    "edges_to_induce = tri_g.es.select(weight_le=trim_thresh)\n",
    "tri_g_trimmed = tri_g.subgraph_edges(edges_to_induce)"
   ]
  },
  {
   "cell_type": "code",
   "execution_count": null,
   "id": "f1c058c7",
   "metadata": {
    "colab": {
     "base_uri": "https://localhost:8080/",
     "height": 854
    },
    "id": "f1c058c7",
    "outputId": "de483737-29b7-4a81-9bbf-c8eda22ed942"
   },
   "outputs": [],
   "source": [
    "plt.figure(figsize=(15,15), dpi=200)\n",
    "for e in tri_g.es:\n",
    "    v1 = tri_g.vs[e.source]['coordinates']\n",
    "    v2 = tri_g.vs[e.target]['coordinates']\n",
    "    data = np.vstack([v1, v2])\n",
    "    x = data[:, 0]\n",
    "    y = data[:, 1]\n",
    "    plt.plot(x, y, 'blue' if e['weight'] < trim_thresh else 'red')\n",
    "Bbox = ((-118.75,-117.75,33.7,34.4))\n",
    "la_image = plt.imread(file_path+\"Los_Angeles_Open_Streetmap.png\")\n",
    "plt.title(\"Road mesh of LA after Trimming\")\n",
    "plt.xlabel(\"Longitude\")\n",
    "plt.ylabel(\"Latitude\")\n",
    "plt.xlim(Bbox[0],Bbox[1])\n",
    "plt.ylim(Bbox[2],Bbox[3])\n",
    "plt.imshow(la_image,zorder=0,extent=Bbox,aspect='equal')\n",
    "plt.show()\n"
   ]
  },
  {
   "cell_type": "code",
   "execution_count": null,
   "id": "b78e3e73",
   "metadata": {
    "colab": {
     "base_uri": "https://localhost:8080/",
     "height": 821
    },
    "id": "b78e3e73",
    "outputId": "5dec2915-158f-4690-f0fc-b5073dcacd58"
   },
   "outputs": [],
   "source": [
    "visual_style = {}\n",
    "visual_style[\"vertex_size\"] = 3\n",
    "plot(tri_g_trimmed,\"Trimmed_G.png\",**visual_style)"
   ]
  },
  {
   "cell_type": "markdown",
   "id": "7d49a7e3",
   "metadata": {
    "id": "7d49a7e3"
   },
   "source": [
    "### Trimmed graph "
   ]
  },
  {
   "cell_type": "code",
   "execution_count": null,
   "id": "83c36b4f",
   "metadata": {
    "colab": {
     "base_uri": "https://localhost:8080/"
    },
    "id": "83c36b4f",
    "outputId": "0de8ee36-6a0a-4f20-89e5-e28b21f5c6d7"
   },
   "outputs": [],
   "source": [
    "print('Number of edge-disjoint paths: ',tri_g_trimmed.adhesion(long_beach_vertex,malibu_vertex))\n",
    "print('Degree Distribution of nodes (Malibu, Long Beach): ', tri_g_trimmed.degree(malibu_vertex,mode='out')-1,tri_g_trimmed.degree(long_beach_vertex,mode='in')-1)"
   ]
  },
  {
   "cell_type": "code",
   "execution_count": null,
   "id": "2612fd02",
   "metadata": {
    "colab": {
     "base_uri": "https://localhost:8080/"
    },
    "id": "2612fd02",
    "outputId": "7fd712e8-7ab0-42ce-c4d3-959c5d411afe"
   },
   "outputs": [],
   "source": [
    "print(tri_g_trimmed.maxflow(malibu_vertex,long_beach_vertex,capacity=tri_g_trimmed.es[\"capacity\"]))"
   ]
  },
  {
   "cell_type": "code",
   "execution_count": null,
   "id": "8-SsT6XtnerO",
   "metadata": {
    "id": "8-SsT6XtnerO"
   },
   "outputs": [],
   "source": [
    "coordinates = np.array(tri_g_trimmed.vs['coordinates'])"
   ]
  },
  {
   "cell_type": "code",
   "execution_count": null,
   "id": "_DEN7lMNnaHR",
   "metadata": {
    "colab": {
     "base_uri": "https://localhost:8080/",
     "height": 1000
    },
    "id": "_DEN7lMNnaHR",
    "outputId": "88245a68-b6fc-4782-c23e-ba4d70b4729e"
   },
   "outputs": [],
   "source": [
    "plt.figure(figsize=(15,15), dpi=200)\n",
    "for e in tri_g_trimmed.es:\n",
    "    v1 = tri_g_trimmed.vs[e.source]['coordinates']\n",
    "    v2 = tri_g_trimmed.vs[e.target]['coordinates']\n",
    "    data = np.vstack([v1, v2])\n",
    "    x = data[:, 0]\n",
    "    y = data[:, 1]\n",
    "    plt.plot(x, y,\"blue\")\n",
    "\n",
    "plt.title(\"Road Map near Malibu\")\n",
    "plt.xlabel(\"Longitude\")\n",
    "plt.ylabel(\"Latitude\")\n",
    "plt.ylim(coordinates[malibu_vertex][1]-0.03,coordinates[malibu_vertex][1]+0.03)\n",
    "plt.xlim(coordinates[malibu_vertex][0]-0.03,coordinates[malibu_vertex][0]+0.03)\n",
    "plt.plot(coordinates[malibu_vertex][0],coordinates[malibu_vertex][1],marker=\"*\",color='red')\n",
    "plt.show()\n"
   ]
  },
  {
   "cell_type": "code",
   "execution_count": null,
   "id": "9WB3ltUdndhQ",
   "metadata": {
    "colab": {
     "base_uri": "https://localhost:8080/",
     "height": 1000
    },
    "id": "9WB3ltUdndhQ",
    "outputId": "e476c48a-016b-4452-d98c-9820e6d7c2ee"
   },
   "outputs": [],
   "source": [
    "plt.figure(figsize=(15,15), dpi=200)\n",
    "for e in tri_g_trimmed.es:\n",
    "    v1 = tri_g_trimmed.vs[e.source]['coordinates']\n",
    "    v2 = tri_g_trimmed.vs[e.target]['coordinates']\n",
    "    data = np.vstack([v1, v2])\n",
    "    x = data[:, 0]\n",
    "    y = data[:, 1]\n",
    "    plt.plot(x, y,\"blue\")\n",
    "\n",
    "plt.title(\"Road Map near Malibu\")\n",
    "plt.xlabel(\"Longitude\")\n",
    "plt.ylabel(\"Latitude\")\n",
    "plt.ylim(coordinates[long_beach_vertex][1]-0.03,coordinates[long_beach_vertex][1]+0.03)\n",
    "plt.xlim(coordinates[long_beach_vertex][0]-0.03,coordinates[long_beach_vertex][0]+0.03)\n",
    "plt.plot(coordinates[long_beach_vertex][0],coordinates[long_beach_vertex][1],marker=\"*\",color='red')\n",
    "plt.show()\n"
   ]
  },
  {
   "cell_type": "code",
   "execution_count": null,
   "id": "072b3bd9",
   "metadata": {
    "id": "072b3bd9"
   },
   "outputs": [],
   "source": [
    "def get_euclidean_distance(node_list):\n",
    "    dist = np.zeros((len(node_list),len(node_list)))\n",
    "    i= 0\n",
    "    for node1 in (node_list):\n",
    "        j=0\n",
    "        for node2 in node_list:\n",
    "            coord = np.array(node1['coordinates'])\n",
    "            coord1 = np.array(node2['coordinates'])\n",
    "            dist[i,j] = np.linalg.norm(coord1-coord,2)\n",
    "            j+=1\n",
    "        i+=1\n",
    "    return dist"
   ]
  },
  {
   "cell_type": "code",
   "execution_count": null,
   "id": "fc63c96d",
   "metadata": {
    "id": "fc63c96d"
   },
   "outputs": [],
   "source": [
    "euclid_distance = get_euclidean_distance(list(tri_g_trimmed.vs()))"
   ]
  },
  {
   "cell_type": "code",
   "execution_count": null,
   "id": "3a093ba0",
   "metadata": {
    "id": "3a093ba0"
   },
   "outputs": [],
   "source": [
    "def get_distance(graph):\n",
    "    vertex_seq = list(graph.vs())\n",
    "    distance = np.zeros((len(vertex_seq),len(vertex_seq)))\n",
    "    all_distances = np.array([i['euclidean_cost'] for i in graph.es()])\n",
    "    counter_1 = 0\n",
    "    counter_2  = 0\n",
    "    for node1 in (vertex_seq): \n",
    "        all_paths=  graph.get_shortest_paths(node1,vertex_seq,weights=graph.es['euclidean_cost'],output='epath')\n",
    "        counter_2 = 0\n",
    "        for route in all_paths:\n",
    "            local_distance=np.sum(all_distances[route])\n",
    "            distance[counter_1,counter_2]=local_distance\n",
    "            counter_2+=1\n",
    "        counter_1+=1\n",
    "    return distance"
   ]
  },
  {
   "cell_type": "code",
   "execution_count": null,
   "id": "8117ca45",
   "metadata": {
    "id": "8117ca45"
   },
   "outputs": [],
   "source": [
    "def k_largest_index_argsort(a, k):\n",
    "    idx = np.argsort(a.ravel())[:-k-1:-1]\n",
    "    return np.column_stack(np.unravel_index(idx, a.shape))"
   ]
  },
  {
   "cell_type": "markdown",
   "id": "a7a0a1f7",
   "metadata": {
    "id": "a7a0a1f7"
   },
   "source": [
    "### Strategy 1"
   ]
  },
  {
   "cell_type": "code",
   "execution_count": null,
   "id": "9bfced69",
   "metadata": {
    "colab": {
     "base_uri": "https://localhost:8080/",
     "height": 35
    },
    "id": "9bfced69",
    "outputId": "7b1698b1-2f07-42d5-e1b5-13fc33e0ddfd"
   },
   "outputs": [],
   "source": [
    "tri_g_trimmed.summary()"
   ]
  },
  {
   "cell_type": "code",
   "execution_count": null,
   "id": "2c139155",
   "metadata": {
    "id": "2c139155"
   },
   "outputs": [],
   "source": [
    "normal_distance = get_distance(tri_g_trimmed)"
   ]
  },
  {
   "cell_type": "code",
   "execution_count": null,
   "id": "9287caf4",
   "metadata": {
    "id": "9287caf4"
   },
   "outputs": [],
   "source": [
    "extra_distance = normal_distance - euclid_distance\n",
    "\n",
    "top_20_indices = k_largest_index_argsort(extra_distance,50)"
   ]
  },
  {
   "cell_type": "code",
   "execution_count": null,
   "id": "c51fa791",
   "metadata": {
    "colab": {
     "base_uri": "https://localhost:8080/"
    },
    "id": "c51fa791",
    "outputId": "cf4f5f03-463a-4108-cd52-05daf21b782c"
   },
   "outputs": [],
   "source": [
    "index_list = set()\n",
    "count = 0\n",
    "while len(index_list)<20:\n",
    "    i = top_20_indices[count]\n",
    "    x = max(i[0],i[1])\n",
    "    y = min(i[0],i[1])\n",
    "    index_list.add((x,y))\n",
    "    count+=1\n",
    "\n",
    "index_list = list(index_list)\n",
    "for i in index_list:\n",
    "  print(i)"
   ]
  },
  {
   "cell_type": "code",
   "execution_count": null,
   "id": "Yz182P_j4NY5",
   "metadata": {
    "colab": {
     "base_uri": "https://localhost:8080/"
    },
    "id": "Yz182P_j4NY5",
    "outputId": "242d09c5-5867-4a07-9ba3-a14b91494e37"
   },
   "outputs": [],
   "source": [
    "tri_g_trimmed.is_connected()"
   ]
  },
  {
   "cell_type": "code",
   "execution_count": null,
   "id": "2707c7c0",
   "metadata": {
    "id": "2707c7c0"
   },
   "outputs": [],
   "source": [
    "tri_with_new_edges_v1 = deepcopy(tri_g_trimmed)\n",
    "for i in index_list:\n",
    "    tri_with_new_edges_v1.add_edges([(i[0],i[1])])"
   ]
  },
  {
   "cell_type": "code",
   "execution_count": null,
   "id": "a7a17a8c",
   "metadata": {
    "colab": {
     "base_uri": "https://localhost:8080/",
     "height": 821
    },
    "id": "a7a17a8c",
    "outputId": "69b9b44f-6383-41f0-8bdc-fc0c02b2ee86"
   },
   "outputs": [],
   "source": [
    "visual_style = {}\n",
    "visual_style[\"vertex_size\"] = 3\n",
    "plot(tri_with_new_edges_v1,**visual_style)"
   ]
  },
  {
   "cell_type": "code",
   "execution_count": null,
   "id": "c5363180",
   "metadata": {
    "colab": {
     "base_uri": "https://localhost:8080/",
     "height": 1000
    },
    "id": "c5363180",
    "outputId": "302f3fd4-a6fb-428d-970c-d268f3735ab2"
   },
   "outputs": [],
   "source": [
    "# plot the roads and highlight our new edges. \n",
    "plt.figure(figsize=(15,15), dpi=200)\n",
    "for e in tqdm(tri_with_new_edges_v1.es):\n",
    "    start = e.source\n",
    "    end = e.target\n",
    "    cur_edge = (max(start,end),min(start,end))\n",
    "\n",
    "    v1 = np.array(tri_with_new_edges_v1.vs(start)['coordinates'])\n",
    "    v2 = np.array(tri_with_new_edges_v1.vs(end)['coordinates'])\n",
    "    data = np.vstack([v1,v2])\n",
    "    x = data[:, 0]\n",
    "    y = data[:, 1]\n",
    "    if cur_edge in index_list:\n",
    "        plt.plot(x,y,\"red\") \n",
    "    else:\n",
    "        plt.plot(x, y,'blue')\n",
    "# mark the source and destination\n",
    "# source = tri_g.vs.select(display_name=source_address)[0].index\n",
    "# target = tri_g.vs.select(display_name=dest_address)[0].index\n",
    "# v1 = road_map_static.vs[source_idx]['coordinates']\n",
    "# v2 = road_map_static.vs[dest_idx]['coordinates']\n",
    "# data = np.vstack([v1, v2])\n",
    "# x = data[:, 0]\n",
    "# y = data[:, 1]\n",
    "# plt.plot(x, y, 'bo')\n",
    "plt.axis('equal')\n",
    "Bbox = ((-118.75,-117.75,33.7,34.4))\n",
    "la_image = plt.imread(file_path+\"Los_Angeles_Open_Streetmap.png\")\n",
    "plt.title(\"Strategy 1 Geodesic Distance Static\")\n",
    "plt.xlabel(\"Longitude\")\n",
    "plt.ylabel(\"Latitude\")\n",
    "plt.xlim(Bbox[0],Bbox[1])\n",
    "plt.ylim(Bbox[2],Bbox[3])\n",
    "plt.imshow(la_image,zorder=0,extent=Bbox,aspect='equal')\n",
    "plt.show()"
   ]
  },
  {
   "cell_type": "markdown",
   "id": "215a154f",
   "metadata": {
    "id": "215a154f"
   },
   "source": [
    "## Strategy 2 "
   ]
  },
  {
   "cell_type": "code",
   "execution_count": null,
   "id": "30da37a2",
   "metadata": {
    "id": "30da37a2"
   },
   "outputs": [],
   "source": [
    "vertex_seq = tri_g_trimmed.vs()\n",
    "np.random.seed(2022)\n",
    "frequencies = np.random.randint(1,1001, (len(vertex_seq),len(vertex_seq)) )\n",
    "frequencies = (frequencies+frequencies.T)/2"
   ]
  },
  {
   "cell_type": "code",
   "execution_count": null,
   "id": "95bf95df",
   "metadata": {
    "id": "95bf95df"
   },
   "outputs": [],
   "source": [
    "difference_frequency = np.multiply(extra_distance,frequencies)"
   ]
  },
  {
   "cell_type": "code",
   "execution_count": null,
   "id": "d5b68eeb",
   "metadata": {
    "id": "d5b68eeb"
   },
   "outputs": [],
   "source": [
    "top_20_indices = k_largest_index_argsort(difference_frequency,40)\n"
   ]
  },
  {
   "cell_type": "code",
   "execution_count": null,
   "id": "2c57f36a",
   "metadata": {
    "colab": {
     "base_uri": "https://localhost:8080/"
    },
    "id": "2c57f36a",
    "outputId": "ee9fe9fb-308c-4cf8-a658-49e5931fd353"
   },
   "outputs": [],
   "source": [
    "index_list = set()\n",
    "count = 0\n",
    "while len(index_list)<20:\n",
    "    i = top_20_indices[count]\n",
    "    x = max(i[0],i[1])\n",
    "    y = min(i[0],i[1])\n",
    "    index_list.add((x,y))\n",
    "    count+=1\n",
    "\n",
    "index_list = list(index_list)\n",
    "for i in index_list:\n",
    "  print(i)"
   ]
  },
  {
   "cell_type": "code",
   "execution_count": null,
   "id": "555167ee",
   "metadata": {
    "id": "555167ee"
   },
   "outputs": [],
   "source": [
    "tri_with_new_edges_v2 = deepcopy(tri_g_trimmed)\n",
    "for i in index_list:\n",
    "    tri_with_new_edges_v2.add_edges([(i[0],i[1])])"
   ]
  },
  {
   "cell_type": "code",
   "execution_count": null,
   "id": "5cc2f66f",
   "metadata": {
    "colab": {
     "base_uri": "https://localhost:8080/",
     "height": 1000
    },
    "id": "5cc2f66f",
    "outputId": "a30c5814-e94b-4b46-8d92-13b872884b32"
   },
   "outputs": [],
   "source": [
    "# plot the roads and highlight our new edges. \n",
    "plt.figure(figsize=(15,15), dpi=200)\n",
    "for e in tqdm(tri_with_new_edges_v2.es):\n",
    "    start = e.source\n",
    "    end = e.target\n",
    "    cur_edge = (max(start,end),min(start,end))\n",
    "\n",
    "    v1 = np.array(tri_with_new_edges_v2.vs(start)['coordinates'])\n",
    "    v2 = np.array(tri_with_new_edges_v2.vs(end)['coordinates'])\n",
    "    data = np.vstack([v1,v2])\n",
    "    x = data[:, 0]\n",
    "    y = data[:, 1]\n",
    "    if cur_edge in index_list:\n",
    "        plt.plot(x,y,'red') \n",
    "    else:\n",
    "        plt.plot(x, y, 'blue')\n",
    "\n",
    "plt.axis('equal')\n",
    "Bbox = ((-118.75,-117.75,33.7,34.4))\n",
    "la_image = plt.imread(file_path+\"Los_Angeles_Open_Streetmap.png\")\n",
    "plt.title(\"Strategy 2 Geo Distance Static with Frequency\")\n",
    "plt.xlabel(\"Longitude\")\n",
    "plt.ylabel(\"Latitude\")\n",
    "plt.xlim(Bbox[0],Bbox[1])\n",
    "plt.ylim(Bbox[2],Bbox[3])\n",
    "plt.imshow(la_image,zorder=0,extent=Bbox,aspect='equal')\n",
    "plt.show()"
   ]
  },
  {
   "cell_type": "markdown",
   "id": "4507a7fe",
   "metadata": {
    "id": "4507a7fe"
   },
   "source": [
    "## Strategy 3 "
   ]
  },
  {
   "cell_type": "code",
   "execution_count": null,
   "id": "bf9a549c",
   "metadata": {
    "colab": {
     "base_uri": "https://localhost:8080/"
    },
    "id": "bf9a549c",
    "outputId": "7b70a76f-7d8b-4201-99ff-7862a9c5e1ef"
   },
   "outputs": [],
   "source": [
    "tri_g_with_new_edges_v3 = deepcopy(tri_g_trimmed)\n",
    "budget = 20\n",
    "new_dynamic_edges = []\n",
    "node_list = list(tri_g_with_new_edges_v3.vs())\n",
    "difference = normal_distance - euclid_distance \n",
    "top_one = k_largest_index_argsort(difference,1)[0]\n",
    "new_dynamic_edges.append(top_one)\n",
    "cost = euclid_distance[top_one[0],top_one[1]]\n",
    "tri_g_with_new_edges_v3.add_edges([(top_one[0],top_one[1])],{\"euclidean_cost\":cost})\n",
    "for i in tqdm(range(1,budget)):\n",
    "    node_list=  list(tri_g_with_new_edges_v3.vs())\n",
    "    euclid_distance = get_euclidean_distance(node_list)\n",
    "    normal_distance = get_distance(tri_g_with_new_edges_v3)\n",
    "    difference = normal_distance - euclid_distance \n",
    "    top_one = k_largest_index_argsort(difference,1)[0]\n",
    "    new_dynamic_edges.append(top_one)\n",
    "    cost = euclid_distance[top_one[0],top_one[1]]\n",
    "    tri_g_with_new_edges_v3.add_edges([(top_one[0],top_one[1])],{\"euclidean_cost\":cost})"
   ]
  },
  {
   "cell_type": "code",
   "execution_count": null,
   "id": "43ea4409",
   "metadata": {
    "colab": {
     "base_uri": "https://localhost:8080/"
    },
    "id": "43ea4409",
    "outputId": "94989479-845a-43a1-a96d-bb4a8daa049b"
   },
   "outputs": [],
   "source": [
    "index_list = set()\n",
    "count = 0\n",
    "while len(index_list)<20:\n",
    "    i = new_dynamic_edges[count]\n",
    "    x = max(i[0],i[1])\n",
    "    y = min(i[0],i[1])\n",
    "    index_list.add((x,y))\n",
    "    count+=1\n",
    "\n",
    "index_list = list(index_list)\n",
    "for i in index_list:\n",
    "  print(i)"
   ]
  },
  {
   "cell_type": "code",
   "execution_count": null,
   "id": "c5bdd20f",
   "metadata": {
    "colab": {
     "base_uri": "https://localhost:8080/",
     "height": 1000
    },
    "id": "c5bdd20f",
    "outputId": "05bc943f-def8-4d89-bfef-55095ca56fcc"
   },
   "outputs": [],
   "source": [
    "# plot the roads and highlight our new edges. \n",
    "plt.figure(figsize=(15,15), dpi=200)\n",
    "for e in tqdm(tri_g_with_new_edges_v3.es):\n",
    "    start = e.source\n",
    "    end = e.target\n",
    "    cur_edge = (max(start,end),min(start,end))\n",
    "\n",
    "    v1 = np.array(tri_g_with_new_edges_v3.vs(start)['coordinates'])\n",
    "    v2 = np.array(tri_g_with_new_edges_v3.vs(end)['coordinates'])\n",
    "    data = np.vstack([v1,v2])\n",
    "    x = data[:, 0]\n",
    "    y = data[:, 1]\n",
    "    if cur_edge in index_list:\n",
    "        plt.plot(x,y,'red') \n",
    "    else:\n",
    "        plt.plot(x, y,'blue')\n",
    "\n",
    "plt.axis('equal')\n",
    "Bbox = ((-118.75,-117.75,33.7,34.4))\n",
    "la_image = plt.imread(file_path+\"Los_Angeles_Open_Streetmap.png\")\n",
    "plt.title(\"Geodesic distance Dynamic\")\n",
    "plt.xlabel(\"Longitude\")\n",
    "plt.ylabel(\"Latitude\")\n",
    "plt.xlim(Bbox[0],Bbox[1])\n",
    "plt.ylim(Bbox[2],Bbox[3])\n",
    "plt.imshow(la_image,zorder=0,extent=Bbox,aspect='equal')\n",
    "plt.show()\n",
    "plt.show()"
   ]
  },
  {
   "cell_type": "markdown",
   "id": "00523182",
   "metadata": {
    "id": "00523182"
   },
   "source": [
    "#### Strategy 4 "
   ]
  },
  {
   "cell_type": "code",
   "execution_count": null,
   "id": "b2b3ddce",
   "metadata": {
    "id": "b2b3ddce"
   },
   "outputs": [],
   "source": [
    "def get_shortest_time(graph):\n",
    "    vertex_seq = list(graph.vs())\n",
    "    time = np.zeros((len(vertex_seq),len(vertex_seq)))\n",
    "    time_weights = np.array([i['weight'] for i in graph.es()])\n",
    "    counter_1 = 0\n",
    "    counter_2  = 0\n",
    "    for node1 in vertex_seq: \n",
    "        all_paths=  graph.get_shortest_paths(node1,vertex_seq,weights=graph.es['weight'],output='epath')\n",
    "        counter_2 = 0\n",
    "        for route in all_paths:\n",
    "            local_time=np.sum(time_weights[route])\n",
    "            time[counter_1,counter_2]=local_time\n",
    "            counter_2+=1         \n",
    "        counter_1+=1\n",
    "    return time"
   ]
  },
  {
   "cell_type": "code",
   "execution_count": null,
   "id": "03fba395",
   "metadata": {
    "colab": {
     "base_uri": "https://localhost:8080/"
    },
    "id": "03fba395",
    "outputId": "038bdf90-7d12-4716-d73f-fc31dc38f5ba"
   },
   "outputs": [],
   "source": [
    "euclid_distance = get_euclidean_distance(list(tri_g_trimmed.vs()))\n",
    "shortest_path_distance = get_distance(tri_g_trimmed)\n",
    "travel_time_of_shortest_path=get_shortest_time(tri_g_trimmed)\n",
    "travel_speed = shortest_path_distance/travel_time_of_shortest_path \n",
    "np.fill_diagonal(travel_speed,0)\n",
    "\n",
    "extra_time = travel_time_of_shortest_path - euclid_distance/travel_speed\n",
    "np.fill_diagonal(extra_time,0)"
   ]
  },
  {
   "cell_type": "code",
   "execution_count": null,
   "id": "lgXP8qcCtMQB",
   "metadata": {
    "colab": {
     "base_uri": "https://localhost:8080/"
    },
    "id": "lgXP8qcCtMQB",
    "outputId": "9ecb9587-eb3b-4132-d8fa-e39cd6cff3ab"
   },
   "outputs": [],
   "source": [
    "shortest_path_distance.shape"
   ]
  },
  {
   "cell_type": "code",
   "execution_count": null,
   "id": "VhsGfjSBtQJY",
   "metadata": {
    "colab": {
     "base_uri": "https://localhost:8080/"
    },
    "id": "VhsGfjSBtQJY",
    "outputId": "45ef7831-8fe3-429d-96dc-01f9fd08f9e5"
   },
   "outputs": [],
   "source": [
    "travel_time_of_shortest_path.shape"
   ]
  },
  {
   "cell_type": "code",
   "execution_count": null,
   "id": "d7b355fb",
   "metadata": {
    "id": "d7b355fb"
   },
   "outputs": [],
   "source": [
    "top_20_indices = k_largest_index_argsort(extra_time,40)"
   ]
  },
  {
   "cell_type": "code",
   "execution_count": null,
   "id": "c8c16922",
   "metadata": {
    "colab": {
     "base_uri": "https://localhost:8080/"
    },
    "id": "c8c16922",
    "outputId": "451a66dd-72f7-4896-a1ff-193f0a88157a"
   },
   "outputs": [],
   "source": [
    "index_list = set()\n",
    "count = 0\n",
    "while len(index_list)<20:\n",
    "    i = top_20_indices[count]\n",
    "    x = max(i[0],i[1])\n",
    "    y = min(i[0],i[1])\n",
    "    index_list.add((x,y))\n",
    "    count+=1\n",
    "\n",
    "index_list = list(index_list)\n",
    "for i in index_list:\n",
    "  print(i)"
   ]
  },
  {
   "cell_type": "code",
   "execution_count": null,
   "id": "f0b3115f",
   "metadata": {
    "id": "f0b3115f"
   },
   "outputs": [],
   "source": [
    "tri_with_new_edges_v4 = deepcopy(tri_g_trimmed)\n",
    "for i in index_list:\n",
    "    tri_with_new_edges_v4.add_edges([(i[0],i[1])])"
   ]
  },
  {
   "cell_type": "code",
   "execution_count": null,
   "id": "d652548c",
   "metadata": {
    "colab": {
     "base_uri": "https://localhost:8080/",
     "height": 1000
    },
    "id": "d652548c",
    "outputId": "71b44704-1873-4256-9a3e-a059405c4abf"
   },
   "outputs": [],
   "source": [
    "# plot the roads and highlight our new edges. \n",
    "plt.figure(figsize=(15,15), dpi=200)\n",
    "for e in tqdm(tri_with_new_edges_v4.es):\n",
    "    start = e.source\n",
    "    end = e.target\n",
    "    cur_edge = (max(start,end),min(start,end))\n",
    "\n",
    "    v1 = np.array(tri_with_new_edges_v4.vs(start)['coordinates'])\n",
    "    v2 = np.array(tri_with_new_edges_v4.vs(end)['coordinates'])\n",
    "    data = np.vstack([v1,v2])\n",
    "    x = data[:, 0]\n",
    "    y = data[:, 1]\n",
    "    if cur_edge in index_list:\n",
    "        plt.plot(x,y,'red') \n",
    "    else:\n",
    "        plt.plot(x, y,'blue')\n",
    "plt.axis('equal')\n",
    "Bbox = ((-118.75,-117.75,33.7,34.4))\n",
    "la_image = plt.imread(file_path+\"Los_Angeles_Open_Streetmap.png\")\n",
    "plt.title(\"Travel Time Static\")\n",
    "plt.xlabel(\"Longitude\")\n",
    "plt.ylabel(\"Latitude\")\n",
    "plt.xlim(Bbox[0],Bbox[1])\n",
    "plt.ylim(Bbox[2],Bbox[3])\n",
    "plt.imshow(la_image,zorder=0,extent=Bbox,aspect='equal')\n",
    "plt.show()\n",
    "plt.show()"
   ]
  },
  {
   "cell_type": "markdown",
   "id": "77020637",
   "metadata": {
    "id": "77020637"
   },
   "source": [
    "#### Strategy 5"
   ]
  },
  {
   "cell_type": "code",
   "execution_count": null,
   "id": "c4b9a95f",
   "metadata": {
    "colab": {
     "base_uri": "https://localhost:8080/"
    },
    "id": "c4b9a95f",
    "outputId": "9ed7ebbd-773a-4662-a799-f2c8049df66c"
   },
   "outputs": [],
   "source": [
    "tri_g_with_new_edges_v5 = deepcopy(tri_g_trimmed)\n",
    "budget = 20\n",
    "new_dynamic_edges = []\n",
    "travel_speed = shortest_path_distance/travel_time_of_shortest_path \n",
    "euclid_speed = euclid_distance/travel_speed\n",
    "extra_time = travel_time_of_shortest_path - euclid_speed\n",
    "np.fill_diagonal(extra_time,0)\n",
    "\n",
    "top_one = k_largest_index_argsort(extra_time,1)[0]\n",
    "new_dynamic_edges.append(top_one)\n",
    "time_cost = euclid_speed[top_one[0],top_one[1]]\n",
    "distance_cost = euclid_distance[top_one[0],top_one[1]]\n",
    "tri_g_with_new_edges_v5.add_edges([(top_one[0],top_one[1])],{\"weight\":time_cost,\"euclidean_cost\":distance_cost})\n",
    "\n",
    "for i in tqdm(range(1,budget)):\n",
    "    node_list = list(tri_g_with_new_edges_v5.vs())\n",
    "    euclid_distance = get_euclidean_distance(node_list)\n",
    "    shortest_path_distance= get_distance(tri_g_with_new_edges_v5)\n",
    "    travel_time_of_shortest_path = get_shortest_time(tri_g_with_new_edges_v5)\n",
    "    travel_speed = shortest_path_distance/travel_time_of_shortest_path \n",
    "\n",
    "    euclid_speed = euclid_distance/travel_speed\n",
    "    extra_time = travel_time_of_shortest_path - euclid_speed\n",
    "    np.fill_diagonal(extra_time,0)\n",
    "    top_one = k_largest_index_argsort(extra_time,1)[0]\n",
    "    new_dynamic_edges.append(top_one)\n",
    "    time_cost =euclid_speed[top_one[0],top_one[1]]\n",
    "    distance_cost = euclid_distance[top_one[0],top_one[1]]\n",
    "    tri_g_with_new_edges_v5.add_edges([(top_one[0],top_one[1])],{\"euclidean_cost\":distance_cost,\"weight\":time_cost})\n"
   ]
  },
  {
   "cell_type": "code",
   "execution_count": null,
   "id": "77e30a47",
   "metadata": {
    "colab": {
     "base_uri": "https://localhost:8080/"
    },
    "id": "77e30a47",
    "outputId": "7453fd68-f55b-4977-f528-c6adae64b922"
   },
   "outputs": [],
   "source": [
    "index_list = set()\n",
    "count = 0\n",
    "while len(index_list)<20:\n",
    "    i = new_dynamic_edges[count]\n",
    "    x = max(i[0],i[1])\n",
    "    y = min(i[0],i[1])\n",
    "    index_list.add((x,y))\n",
    "    count+=1\n",
    "\n",
    "index_list = list(index_list)\n",
    "for i in index_list:\n",
    "  print(i)"
   ]
  },
  {
   "cell_type": "code",
   "execution_count": null,
   "id": "3c55a8ca",
   "metadata": {
    "colab": {
     "base_uri": "https://localhost:8080/",
     "height": 1000
    },
    "id": "3c55a8ca",
    "outputId": "61442731-1f17-42c6-f006-e89bc1146f0d"
   },
   "outputs": [],
   "source": [
    "# plot the roads and highlight our new edges. \n",
    "plt.figure(figsize=(15,15), dpi=200)\n",
    "for e in tqdm(tri_g_with_new_edges_v5.es):\n",
    "    start = e.source\n",
    "    end = e.target\n",
    "    cur_edge = (max(start,end),min(start,end))\n",
    "\n",
    "    v1 = np.array(tri_g_with_new_edges_v5.vs(start)['coordinates'])\n",
    "    v2 = np.array(tri_g_with_new_edges_v5.vs(end)['coordinates'])\n",
    "    data = np.vstack([v1,v2])\n",
    "    x = data[:, 0]\n",
    "    y = data[:, 1]\n",
    "    if cur_edge in index_list:\n",
    "        plt.plot(x,y,'red') \n",
    "    else:\n",
    "        plt.plot(x, y, 'blue')\n",
    "plt.axis('equal')\n",
    "Bbox = ((-118.75,-117.75,33.7,34.4))\n",
    "la_image = plt.imread(file_path+\"Los_Angeles_Open_Streetmap.png\")\n",
    "plt.title(\"Travel Time Dynamic\")\n",
    "plt.xlabel(\"Longitude\")\n",
    "plt.ylabel(\"Latitude\")\n",
    "plt.xlim(Bbox[0],Bbox[1])\n",
    "plt.ylim(Bbox[2],Bbox[3])\n",
    "plt.imshow(la_image,zorder=0,extent=Bbox,aspect='equal')\n",
    "plt.show()\n",
    "plt.show()"
   ]
  },
  {
   "cell_type": "markdown",
   "id": "zaNzAGZXG_q3",
   "metadata": {
    "id": "zaNzAGZXG_q3"
   },
   "source": [
    "## Strategy 6 "
   ]
  },
  {
   "cell_type": "code",
   "execution_count": null,
   "id": "AUC4GQUSZ7je",
   "metadata": {
    "id": "AUC4GQUSZ7je"
   },
   "outputs": [],
   "source": [
    "np.random.seed(2022)\n",
    "frequencies = np.random.randint(1,1001, (len(vertex_seq),len(vertex_seq)) )\n",
    "frequencies = (frequencies+frequencies.T)/2\n",
    "difference_frequency = np.multiply(extra_time,frequencies)"
   ]
  },
  {
   "cell_type": "code",
   "execution_count": null,
   "id": "SIpxuA9dHLEd",
   "metadata": {
    "colab": {
     "base_uri": "https://localhost:8080/"
    },
    "id": "SIpxuA9dHLEd",
    "outputId": "59aec2d8-484d-4405-abcb-a62212a16e52"
   },
   "outputs": [],
   "source": [
    "top_20_indices = k_largest_index_argsort(difference_frequency,40)\n",
    "index_list = set()\n",
    "count = 0\n",
    "while len(index_list)<20:\n",
    "    i = top_20_indices[count]\n",
    "    x = max(i[0],i[1])\n",
    "    y = min(i[0],i[1])\n",
    "    index_list.add((x,y))\n",
    "    count+=1\n",
    "\n",
    "index_list = list(index_list)\n",
    "for i in index_list:\n",
    "  print(i)"
   ]
  },
  {
   "cell_type": "code",
   "execution_count": null,
   "id": "fagA0uUfHUdx",
   "metadata": {
    "id": "fagA0uUfHUdx"
   },
   "outputs": [],
   "source": [
    "tri_with_new_edges_v6 = deepcopy(tri_g_trimmed)\n",
    "for i in index_list:\n",
    "    tri_with_new_edges_v6.add_edges([(i[0],i[1])])"
   ]
  },
  {
   "cell_type": "code",
   "execution_count": null,
   "id": "Va_BWUpoHZu1",
   "metadata": {
    "colab": {
     "base_uri": "https://localhost:8080/",
     "height": 1000
    },
    "id": "Va_BWUpoHZu1",
    "outputId": "f699d2ba-56da-4d9d-e71b-7e4889626dce"
   },
   "outputs": [],
   "source": [
    "# plot the roads and highlight our new edges. \n",
    "plt.figure(figsize=(15,15), dpi=200)\n",
    "for e in tqdm(tri_with_new_edges_v6.es):\n",
    "    start = e.source\n",
    "    end = e.target\n",
    "    cur_edge = (max(start,end),min(start,end))\n",
    "\n",
    "    v1 = np.array(tri_with_new_edges_v6.vs(start)['coordinates'])\n",
    "    v2 = np.array(tri_with_new_edges_v6.vs(end)['coordinates'])\n",
    "    data = np.vstack([v1,v2])\n",
    "    x = data[:, 0]\n",
    "    y = data[:, 1]\n",
    "    if cur_edge in index_list:\n",
    "        plt.plot(x,y,'red') \n",
    "    else:\n",
    "        plt.plot(x, y, 'blue')\n",
    "\n",
    "plt.axis('equal')\n",
    "Bbox = ((-118.75,-117.75,33.7,34.4))\n",
    "la_image = plt.imread(file_path+\"Los_Angeles_Open_Streetmap.png\")\n",
    "plt.title(\"Strategy 2 Geo Distance Static with Frequency\")\n",
    "plt.xlabel(\"Longitude\")\n",
    "plt.ylabel(\"Latitude\")\n",
    "plt.xlim(Bbox[0],Bbox[1])\n",
    "plt.ylim(Bbox[2],Bbox[3])\n",
    "plt.imshow(la_image,zorder=0,extent=Bbox,aspect='equal')\n",
    "plt.show()"
   ]
  }
 ],
 "metadata": {
  "colab": {
   "provenance": []
  },
  "kernelspec": {
   "display_name": "Python 3",
   "language": "python",
   "name": "python3"
  },
  "language_info": {
   "codemirror_mode": {
    "name": "ipython",
    "version": 3
   },
   "file_extension": ".py",
   "mimetype": "text/x-python",
   "name": "python",
   "nbconvert_exporter": "python",
   "pygments_lexer": "ipython3",
   "version": "3.8.8"
  }
 },
 "nbformat": 4,
 "nbformat_minor": 5
}
